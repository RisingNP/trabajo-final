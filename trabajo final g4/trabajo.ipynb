{
 "cells": [
  {
   "attachments": {},
   "cell_type": "markdown",
   "metadata": {},
   "source": [
    "Hello"
   ]
  },
  {
   "cell_type": "code",
   "execution_count": null,
   "metadata": {},
   "outputs": [],
   "source": [
    "with open('admin/login.txt' , mode= 'a' , encoding= 'utf8') as file:\n",
    "    None"
   ]
  },
  {
   "cell_type": "code",
   "execution_count": null,
   "metadata": {},
   "outputs": [],
   "source": [
    "import funciones as f\n",
    "while True:\n",
    "    menu_principal = input(\"\"\"Ingrese la opción deseada:\n",
    "                            1. Gestión de usuarios\n",
    "                            2. Gestión de hemocomponentes\n",
    "                            3. salir\n",
    "                            >\"\"\")\n",
    "    if menu_principal == '1':\n",
    "        while True:\n",
    "            menu_gestion = input(\"\"\"Ingrese la opción deseada:\n",
    "                                1. insertar nuevo usuario\n",
    "                                2. mostrar todos los usuarios\n",
    "                                3. modificar contraseña\n",
    "                                4. eliminar usuario\n",
    "                                5. volver al menú anterior\n",
    "                                >\"\"\")\n",
    "            if menu_gestion == '1':\n",
    "                f.ingresar_usuario_txt()\n",
    "            elif menu_gestion == '2':\n",
    "                f.mostrar_usuarios_txt()\n",
    "            elif menu_gestion == '3':\n",
    "                f.cambiar_contraseña_txt()\n",
    "            elif menu_gestion == '4':\n",
    "                f.eliminar_user_txt()\n",
    "            elif menu_gestion == '5':\n",
    "                print('regresando al menú principal...')\n",
    "                break\n",
    "            else:\n",
    "                print('ingrese el número de la opción deseada... reintentando')\n",
    "\n",
    "    elif menu_principal == '2':\n",
    "\n",
    "        pass\n",
    "\n",
    "    elif menu_principal == '3':\n",
    "        print('-'*5,'cerrando sistema','-'*5)\n",
    "        break\n",
    "\n",
    "    else:\n",
    "        print('ERROR: ingrese el NÚMERO de la opción deseada.\\nReintentando...')\n"
   ]
  }
 ],
 "metadata": {
  "kernelspec": {
   "display_name": "holis",
   "language": "python",
   "name": "python3"
  },
  "language_info": {
   "codemirror_mode": {
    "name": "ipython",
    "version": 3
   },
   "file_extension": ".py",
   "mimetype": "text/x-python",
   "name": "python",
   "nbconvert_exporter": "python",
   "pygments_lexer": "ipython3",
   "version": "3.10.11"
  },
  "orig_nbformat": 4
 },
 "nbformat": 4,
 "nbformat_minor": 2
}
